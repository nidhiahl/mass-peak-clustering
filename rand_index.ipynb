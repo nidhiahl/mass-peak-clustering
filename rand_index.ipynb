{
 "cells": [
  {
   "cell_type": "code",
   "execution_count": 1,
   "id": "83433e0c-0c54-4d30-95f1-1186e57ae0d6",
   "metadata": {},
   "outputs": [],
   "source": [
    "import pandas as pd\n",
    "import numpy as np\n",
    "\n",
    "from scipy.special import comb"
   ]
  },
  {
   "cell_type": "code",
   "execution_count": 2,
   "id": "d7aeb61f-5e56-4a83-b337-31e71d868e79",
   "metadata": {},
   "outputs": [],
   "source": [
    "clustering_output = pd.read_csv(r'flame/intermediatefiles/haloId.csv',sep=' ') #Replace test.csv with path of the input file, input must contain actual and predicted clusterid."
   ]
  },
  {
   "cell_type": "code",
   "execution_count": 3,
   "id": "d6584037-70cb-4627-af7f-fe738011e69e",
   "metadata": {},
   "outputs": [
    {
     "data": {
      "text/html": [
       "<div>\n",
       "<style scoped>\n",
       "    .dataframe tbody tr th:only-of-type {\n",
       "        vertical-align: middle;\n",
       "    }\n",
       "\n",
       "    .dataframe tbody tr th {\n",
       "        vertical-align: top;\n",
       "    }\n",
       "\n",
       "    .dataframe thead th {\n",
       "        text-align: right;\n",
       "    }\n",
       "</style>\n",
       "<table border=\"1\" class=\"dataframe\">\n",
       "  <thead>\n",
       "    <tr style=\"text-align: right;\">\n",
       "      <th></th>\n",
       "      <th>pointid</th>\n",
       "      <th>actual</th>\n",
       "      <th>predicted</th>\n",
       "    </tr>\n",
       "  </thead>\n",
       "  <tbody>\n",
       "    <tr>\n",
       "      <th>0</th>\n",
       "      <td>0</td>\n",
       "      <td>1</td>\n",
       "      <td>1</td>\n",
       "    </tr>\n",
       "    <tr>\n",
       "      <th>1</th>\n",
       "      <td>1</td>\n",
       "      <td>1</td>\n",
       "      <td>1</td>\n",
       "    </tr>\n",
       "    <tr>\n",
       "      <th>2</th>\n",
       "      <td>2</td>\n",
       "      <td>2</td>\n",
       "      <td>2</td>\n",
       "    </tr>\n",
       "    <tr>\n",
       "      <th>3</th>\n",
       "      <td>3</td>\n",
       "      <td>2</td>\n",
       "      <td>2</td>\n",
       "    </tr>\n",
       "    <tr>\n",
       "      <th>4</th>\n",
       "      <td>4</td>\n",
       "      <td>2</td>\n",
       "      <td>2</td>\n",
       "    </tr>\n",
       "    <tr>\n",
       "      <th>...</th>\n",
       "      <td>...</td>\n",
       "      <td>...</td>\n",
       "      <td>...</td>\n",
       "    </tr>\n",
       "    <tr>\n",
       "      <th>47755</th>\n",
       "      <td>235</td>\n",
       "      <td>1</td>\n",
       "      <td>1</td>\n",
       "    </tr>\n",
       "    <tr>\n",
       "      <th>47756</th>\n",
       "      <td>236</td>\n",
       "      <td>1</td>\n",
       "      <td>1</td>\n",
       "    </tr>\n",
       "    <tr>\n",
       "      <th>47757</th>\n",
       "      <td>237</td>\n",
       "      <td>1</td>\n",
       "      <td>1</td>\n",
       "    </tr>\n",
       "    <tr>\n",
       "      <th>47758</th>\n",
       "      <td>238</td>\n",
       "      <td>1</td>\n",
       "      <td>0</td>\n",
       "    </tr>\n",
       "    <tr>\n",
       "      <th>47759</th>\n",
       "      <td>239</td>\n",
       "      <td>1</td>\n",
       "      <td>1</td>\n",
       "    </tr>\n",
       "  </tbody>\n",
       "</table>\n",
       "<p>47760 rows × 3 columns</p>\n",
       "</div>"
      ],
      "text/plain": [
       "       pointid  actual  predicted\n",
       "0            0       1          1\n",
       "1            1       1          1\n",
       "2            2       2          2\n",
       "3            3       2          2\n",
       "4            4       2          2\n",
       "...        ...     ...        ...\n",
       "47755      235       1          1\n",
       "47756      236       1          1\n",
       "47757      237       1          1\n",
       "47758      238       1          0\n",
       "47759      239       1          1\n",
       "\n",
       "[47760 rows x 3 columns]"
      ]
     },
     "execution_count": 3,
     "metadata": {},
     "output_type": "execute_result"
    }
   ],
   "source": [
    "clustering_output"
   ]
  },
  {
   "cell_type": "code",
   "execution_count": 4,
   "id": "c8b82fa5-caa0-4ca0-af60-2ad9dd5c99f8",
   "metadata": {},
   "outputs": [],
   "source": [
    "def rand_index(actual, pred):    #first argument: actual clusterid list of all points and second argument: predicted clusterid list\n",
    "\n",
    "    tp_plus_fp = comb(np.bincount(actual), 2).sum()\n",
    "    tp_plus_fn = comb(np.bincount(pred), 2).sum()\n",
    "    A = np.c_[(actual, pred)]\n",
    "    tp = sum(comb(np.bincount(A[A[:, 0] == i, 1]), 2).sum()\n",
    "             for i in set(actual))\n",
    "    fp = tp_plus_fp - tp\n",
    "    fn = tp_plus_fn - tp\n",
    "    tn = comb(len(A), 2) - tp - fp - fn\n",
    "    return (tp + tn) / (tp + fp + fn + tn)\n"
   ]
  },
  {
   "cell_type": "code",
   "execution_count": 10,
   "id": "b2dfc166-16d1-4507-a5b3-ce0be6b7d954",
   "metadata": {},
   "outputs": [
    {
     "data": {
      "text/plain": [
       "0.5215344793861895"
      ]
     },
     "execution_count": 10,
     "metadata": {},
     "output_type": "execute_result"
    }
   ],
   "source": [
    "rand_index(clustering_output['actual'], clustering_output['predicted'])  "
   ]
  },
  {
   "cell_type": "code",
   "execution_count": 12,
   "id": "efa6b00f",
   "metadata": {},
   "outputs": [
    {
     "data": {
      "text/plain": [
       "0        1\n",
       "1        1\n",
       "2        2\n",
       "3        2\n",
       "4        2\n",
       "        ..\n",
       "47755    1\n",
       "47756    1\n",
       "47757    1\n",
       "47758    1\n",
       "47759    1\n",
       "Name: actual, Length: 47760, dtype: int64"
      ]
     },
     "execution_count": 12,
     "metadata": {},
     "output_type": "execute_result"
    }
   ],
   "source": [
    "clustering_output['actual']"
   ]
  },
  {
   "cell_type": "code",
   "execution_count": 6,
   "id": "f2e0a1e9-2e11-4e39-83b5-8c820ad19d62",
   "metadata": {},
   "outputs": [
    {
     "data": {
      "text/plain": [
       "613356009.0"
      ]
     },
     "execution_count": 6,
     "metadata": {},
     "output_type": "execute_result"
    }
   ],
   "source": [
    "comb(np.bincount(clustering_output['actual']),np.array(2)).sum()"
   ]
  },
  {
   "cell_type": "code",
   "execution_count": 7,
   "id": "0150c434-9b80-4f98-a42a-47c72357d1ee",
   "metadata": {},
   "outputs": [
    {
     "data": {
      "text/plain": [
       "pandas.core.series.Series"
      ]
     },
     "execution_count": 7,
     "metadata": {},
     "output_type": "execute_result"
    }
   ],
   "source": [
    "type(clustering_output['actual'])"
   ]
  },
  {
   "cell_type": "code",
   "execution_count": null,
   "id": "cf19e08f",
   "metadata": {},
   "outputs": [],
   "source": []
  }
 ],
 "metadata": {
  "kernelspec": {
   "display_name": "Python 3 (ipykernel)",
   "language": "python",
   "name": "python3"
  },
  "language_info": {
   "codemirror_mode": {
    "name": "ipython",
    "version": 3
   },
   "file_extension": ".py",
   "mimetype": "text/x-python",
   "name": "python",
   "nbconvert_exporter": "python",
   "pygments_lexer": "ipython3",
   "version": "3.9.13"
  },
  "toc-autonumbering": true,
  "toc-showcode": false
 },
 "nbformat": 4,
 "nbformat_minor": 5
}
