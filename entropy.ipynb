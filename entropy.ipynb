{
 "cells": [
  {
   "cell_type": "code",
   "execution_count": 1,
   "id": "83433e0c-0c54-4d30-95f1-1186e57ae0d6",
   "metadata": {},
   "outputs": [],
   "source": [
    "import pandas as pd\n",
    "import numpy as np\n",
    "\n",
    "from scipy.special import comb\n",
    "from math import *"
   ]
  },
  {
   "cell_type": "code",
   "execution_count": 6,
   "id": "d7aeb61f-5e56-4a83-b337-31e71d868e79",
   "metadata": {},
   "outputs": [],
   "source": [
    "clustering_output = pd.read_csv(r'test.csv',sep='\\t') #Replace test.csv with path of the input file, input must contain actual and predicted clusterid."
   ]
  },
  {
   "cell_type": "code",
   "execution_count": 7,
   "id": "d6584037-70cb-4627-af7f-fe738011e69e",
   "metadata": {},
   "outputs": [],
   "source": [
    "#clustering_output"
   ]
  },
  {
   "cell_type": "code",
   "execution_count": 8,
   "id": "897c5295-615f-4607-9e21-f49a1336803d",
   "metadata": {},
   "outputs": [],
   "source": [
    "clusters = clustering_output.groupby('actual')['predicted'].apply(list)"
   ]
  },
  {
   "cell_type": "code",
   "execution_count": 9,
   "id": "6b4e5e3e-e6b0-4600-9b87-516beb69c2f8",
   "metadata": {},
   "outputs": [],
   "source": [
    "#clusters"
   ]
  },
  {
   "cell_type": "code",
   "execution_count": 10,
   "id": "8639e63b-da24-4555-9582-39bf856ed02f",
   "metadata": {},
   "outputs": [
    {
     "name": "stdout",
     "output_type": "stream",
     "text": [
      "entropy:  0.04714684751394022\n"
     ]
    }
   ],
   "source": [
    "cluster_entropy=[]\n",
    "for cluster in clusters:\n",
    "    cluster = pd.DataFrame(cluster)\n",
    "    classes=cluster[0].value_counts()\n",
    "    classes = classes/float(cluster.count())\n",
    "    e = (classes * [log(x, 2) for x in classes]).sum()\n",
    "    cluster_entropy += [-e]\n",
    "cluster_size = np.array([len(c) for c in clusters])\n",
    "cluster_fraction = cluster_size/float(cluster_size.sum())\n",
    "entropy = (cluster_fraction * cluster_entropy).sum()\n",
    "print ('entropy: ', entropy)\n"
   ]
  },
  {
   "cell_type": "code",
   "execution_count": null,
   "id": "392575ef-e912-4ee0-9e0c-47895de282c2",
   "metadata": {},
   "outputs": [],
   "source": []
  }
 ],
 "metadata": {
  "kernelspec": {
   "display_name": "Python 3 (ipykernel)",
   "language": "python",
   "name": "python3"
  },
  "language_info": {
   "codemirror_mode": {
    "name": "ipython",
    "version": 3
   },
   "file_extension": ".py",
   "mimetype": "text/x-python",
   "name": "python",
   "nbconvert_exporter": "python",
   "pygments_lexer": "ipython3",
   "version": "3.9.13"
  },
  "toc-autonumbering": true,
  "toc-showcode": false
 },
 "nbformat": 4,
 "nbformat_minor": 5
}
