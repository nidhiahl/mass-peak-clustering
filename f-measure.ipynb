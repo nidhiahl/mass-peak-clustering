{
 "cells": [
  {
   "cell_type": "code",
   "execution_count": 2,
   "id": "83433e0c-0c54-4d30-95f1-1186e57ae0d6",
   "metadata": {},
   "outputs": [],
   "source": [
    "import pandas as pd\n",
    "import numpy as np\n",
    "\n",
    "from scipy.special import comb\n",
    "from math import *"
   ]
  },
  {
   "cell_type": "code",
   "execution_count": 28,
   "id": "d7aeb61f-5e56-4a83-b337-31e71d868e79",
   "metadata": {},
   "outputs": [],
   "source": [
    "clustering_output = pd.read_csv(r'3G/intermediatefiles/smpc_cId.csv',sep=' ') #Replace test.csv with path of the input file, input must contain actual and predicted clusterid."
   ]
  },
  {
   "cell_type": "code",
   "execution_count": 29,
   "id": "d6584037-70cb-4627-af7f-fe738011e69e",
   "metadata": {},
   "outputs": [],
   "source": [
    "#clustering_output"
   ]
  },
  {
   "cell_type": "code",
   "execution_count": 30,
   "id": "897c5295-615f-4607-9e21-f49a1336803d",
   "metadata": {},
   "outputs": [],
   "source": [
    "clusters = clustering_output.groupby('actual')['predicted'].apply(list)"
   ]
  },
  {
   "cell_type": "code",
   "execution_count": 31,
   "id": "6b4e5e3e-e6b0-4600-9b87-516beb69c2f8",
   "metadata": {},
   "outputs": [],
   "source": [
    "classes = clustering_output.groupby('predicted')['actual'].apply(list)"
   ]
  },
  {
   "cell_type": "code",
   "execution_count": 32,
   "id": "88f3f7f7-f6a4-4c0f-9ab8-5f9d3485eb8c",
   "metadata": {},
   "outputs": [
    {
     "name": "stdout",
     "output_type": "stream",
     "text": [
      "f-measure:  0.5544241246031388\n"
     ]
    }
   ],
   "source": [
    "precision= []\n",
    "recall = []\n",
    "for class_i in classes:\n",
    "    class_i = pd.DataFrame(class_i)\n",
    "    class_i = class_i[0].value_counts()\n",
    "    precision_i = class_i.max() / class_i.sum()\n",
    "    recall_i = class_i.max() / len(clusters[class_i.idxmax()])\n",
    "    precision += [precision_i]\n",
    "    recall += [recall_i]\n",
    "precision = np.array(precision)\n",
    "recall = np.array(recall)\n",
    "f_measure  = np.average((2 * precision*recall)/(precision+recall))\n",
    "print('f-measure: ', f_measure)\n"
   ]
  },
  {
   "cell_type": "code",
   "execution_count": null,
   "id": "00c469dc-2bcc-4bf2-b9f6-e54e5ce61072",
   "metadata": {},
   "outputs": [],
   "source": []
  }
 ],
 "metadata": {
  "kernelspec": {
   "display_name": "Python 3 (ipykernel)",
   "language": "python",
   "name": "python3"
  },
  "language_info": {
   "codemirror_mode": {
    "name": "ipython",
    "version": 3
   },
   "file_extension": ".py",
   "mimetype": "text/x-python",
   "name": "python",
   "nbconvert_exporter": "python",
   "pygments_lexer": "ipython3",
   "version": "3.9.13"
  },
  "toc-autonumbering": true,
  "toc-showcode": false
 },
 "nbformat": 4,
 "nbformat_minor": 5
}
